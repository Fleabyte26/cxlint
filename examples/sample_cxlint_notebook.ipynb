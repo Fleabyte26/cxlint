{
 "cells": [
  {
   "cell_type": "code",
   "execution_count": 1,
   "metadata": {},
   "outputs": [],
   "source": [
    "# Copyright 2023 Google LLC\n",
    "#\n",
    "# Licensed under the Apache License, Version 2.0 (the \"License\");\n",
    "# you may not use this file except in compliance with the License.\n",
    "# You may obtain a copy of the License at\n",
    "#\n",
    "#     https://www.apache.org/licenses/LICENSE-2.0\n",
    "#\n",
    "# Unless required by applicable law or agreed to in writing, software\n",
    "# distributed under the License is distributed on an \"AS IS\" BASIS,\n",
    "# WITHOUT WARRANTIES OR CONDITIONS OF ANY KIND, either express or implied.\n",
    "# See the License for the specific language governing permissions and\n",
    "# limitations under the License."
   ]
  },
  {
   "attachments": {},
   "cell_type": "markdown",
   "metadata": {},
   "source": [
    "# Dialogflow CX Linter"
   ]
  },
  {
   "cell_type": "code",
   "execution_count": 4,
   "metadata": {},
   "outputs": [],
   "source": [
    "# If running Colab or Jupyter Notebook, you may need to insert sys.path\n",
    "# import sys\n",
    "# sys.path.insert(0, '/path/to/cxlint/src')\n",
    "\n",
    "from cxlint import CxLint\n",
    "from google.cloud import storage\n",
    "\n",
    "agent_id = \"projects/<GCP_PROJECT_ID>/locations/<LOCATION>/agents/<AGENT_ID>\"\n",
    "gcs_path = 'gs://<GCS_BUCKET>/<PATH_TO_YOUR_AGENT>.zip'\n",
    "\n",
    "# Clear out any old agent data you have before downloading new data\n",
    "agent_local_path = '../data/agent'\n",
    "!rm -rf ../data/agent/\n",
    "!mkdir ../data/agent"
   ]
  },
  {
   "cell_type": "code",
   "execution_count": null,
   "metadata": {},
   "outputs": [],
   "source": [
    "naming_conventions = {\n",
    "    \"agent_name\": \".*\",\n",
    "    \"flow_name\": \".*\",\n",
    "    \"intent_head_name\": \"head_intent.*\",\n",
    "    \"intent_confirmation_name\": \".*\",\n",
    "    \"intent_escalation_name\": \".*\",\n",
    "    \"intent_generic_name\": \".*\",\n",
    "    \"entity_type_name\": \".*\",\n",
    "    \"page_generic_name\": \".*\",\n",
    "    \"page_with_form_name\": \".*\",\n",
    "    \"page_with_webhook_name\": \".*\",\n",
    "    \"test_case_name\": \".*\",\n",
    "    \"webhook_name\": \".*\"\n",
    "    }\n",
    "\n",
    "cxlint = CxLint(\n",
    "    verbose=True,\n",
    "    load_gcs=True,\n",
    "    agent_id=agent_id,\n",
    "    naming_conventions=naming_conventions,\n",
    "    # resource_filter=['flows', 'entity_types', 'webhooks'],\n",
    "    # intent_include_pattern='ci',\n",
    "    # intent_exclude_pattern='ci_'\n",
    "    # flow_include_list=['Internet Services Down'],\n",
    "    # flow_exclude_list=['Bill Balance', 'Bill Confusion'],\n",
    "    # intent_pattern='ci',\n",
    "    # test_case_pattern='SA'\n",
    "    output_file='logs.txt'\n",
    "    )\n",
    "\n",
    "agent_file = cxlint.gcs.download_gcs(gcs_path, agent_local_path)\n",
    "cxlint.gcs.unzip(agent_file, agent_local_path)\n",
    "\n",
    "graph = cxlint.lint_agent(agent_local_path)"
   ]
  },
  {
   "cell_type": "code",
   "execution_count": null,
   "metadata": {},
   "outputs": [],
   "source": []
  }
 ],
 "metadata": {
  "kernelspec": {
   "display_name": "cxlint",
   "language": "python",
   "name": "python3"
  },
  "language_info": {
   "codemirror_mode": {
    "name": "ipython",
    "version": 3
   },
   "file_extension": ".py",
   "mimetype": "text/x-python",
   "name": "python",
   "nbconvert_exporter": "python",
   "pygments_lexer": "ipython3",
   "version": "3.10.8"
  },
  "orig_nbformat": 4
 },
 "nbformat": 4,
 "nbformat_minor": 2
}
